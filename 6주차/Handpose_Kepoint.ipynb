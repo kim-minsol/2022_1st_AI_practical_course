{
 "cells": [
  {
   "cell_type": "code",
   "execution_count": null,
   "metadata": {
    "jupyter": {
     "outputs_hidden": false,
     "source_hidden": false
    },
    "nteract": {
     "transient": {
      "deleting": false
     }
    }
   },
   "outputs": [],
   "source": [
    "#"
   ]
  },
  {
   "cell_type": "code",
   "execution_count": null,
   "metadata": {
    "jupyter": {
     "outputs_hidden": false,
     "source_hidden": false
    },
    "nteract": {
     "transient": {
      "deleting": false
     }
    }
   },
   "outputs": [],
   "source": [
    "#!pip install mediapipe opencv-python\n",
    "#"
   ]
  },
  {
   "cell_type": "code",
   "execution_count": null,
   "metadata": {
    "jupyter": {
     "outputs_hidden": false,
     "source_hidden": false
    },
    "nteract": {
     "transient": {
      "deleting": false
     }
    }
   },
   "outputs": [],
   "source": [
    "# ![image.png](attachment:image.png)\n",
    "#"
   ]
  },
  {
   "cell_type": "code",
   "execution_count": 1,
   "metadata": {
    "jupyter": {
     "outputs_hidden": false,
     "source_hidden": false
    },
    "nteract": {
     "transient": {
      "deleting": false
     }
    }
   },
   "outputs": [],
   "source": [
    "import mediapipe as mp\n",
    "import numpy as np\n",
    "import cv2\n",
    "import math\n",
    "import datetime\n",
    "\n",
    "#Hand keypoint 그리기 위한\n",
    "mp_drawing = mp.solutions.drawing_utils\n",
    "mp_hands = mp.solutions.hands\n",
    "\n",
    "#웹캠 열기\n",
    "cap = cv2.VideoCapture(0)\n",
    "# cap = cv2.VideoCapture(\"./hand_pose/0228_031433.mp4\")\n",
    "\n",
    "fourcc = cv2.VideoWriter_fourcc(*'DIVX')\n",
    "width = int(cap.get(3)) ; height = int(cap.get(4))\n",
    "fps = 30.0\n",
    "now = datetime.datetime.now()\n",
    "vid_file_name = \"./hand_pose/{}_out.mp4\".format(now.strftime(\"%m%d_%H%M%S\"))\n",
    "vid_file = cv2.VideoWriter(vid_file_name, fourcc, fps, (width, height))\n",
    "\n",
    "#Hand Pose Estimation Model 기본 설정(공식문서 참고)\n",
    "with mp_hands.Hands(max_num_hands=2, min_detection_confidence=0.5, min_tracking_confidence=0.5) as hands:\n",
    "\n",
    "    while cap.isOpened(): #웹캠이 열려있으면\n",
    "        ret, frame = cap.read() #한 프레임씩 읽어오기\n",
    "        if ret == False :\n",
    "            print(\"Ignoring empty camera frame.\")\n",
    "            break\n",
    "\n",
    "        image = cv2.cvtColor(frame, cv2.COLOR_BGR2RGB) #opencv는 BGR을 사용하지만 mediapipe는 RGB이기 때문에 변경\n",
    "        image = cv2.flip(image, 1) #이미지 좌우 반전\n",
    "        results = hands.process(image) #mediapipe Hand Pose Estimation 함수\n",
    "        image = cv2.cvtColor(image, cv2.COLOR_RGB2BGR) #다시 opencv용 BGR로 변경\n",
    "        \n",
    "        if cv2.waitKey(1) & 0xFF == 27:\n",
    "            break #esc 키 누르면 닫힘\n",
    "        \n",
    "        if results.multi_hand_landmarks:\n",
    "            for hand_landmarks in results.multi_hand_landmarks:\n",
    "\n",
    "                #--------------------------1.기본 keypoint 좌표 이해-------------------------------#\n",
    "                thumb = hand_landmarks.landmark[4] #엄지손가락 ex)thumb.x,thumb.y,thumb.z로 활용 가능\n",
    "                index = hand_landmarks.landmark[8] #검지손가락\n",
    "                middle = hand_landmarks.landmark[12] #중지손가락\n",
    "                ring = hand_landmarks.landmark[16] #약지손가락\n",
    "                pinky = hand_landmarks.landmark[20] #새끼손가락\n",
    "\n",
    "                #Hand keypoint 그리는 함수\n",
    "                mp_drawing.draw_landmarks(image, hand_landmarks, mp_hands.HAND_CONNECTIONS,\n",
    "                                         mp_drawing.DrawingSpec(color=(121, 22, 76), thickness=2, circle_radius=4),\n",
    "                                         mp_drawing.DrawingSpec(color=(250, 44, 250), thickness=2, circle_radius=2))\n",
    "\n",
    "                #cv2.putText로 원하는 값을 확인\n",
    "                cv2.putText(image, \"thumb: {}\".format(str(round(thumb.y,2))), (20,30), cv2.FONT_HERSHEY_SIMPLEX, 1, (255, 255, 255), 5, cv2.LINE_AA)\n",
    "                cv2.putText(image, \"thumb: {}\".format(str(round(thumb.y,2))), (20,30), cv2.FONT_HERSHEY_SIMPLEX, 1, (0, 0, 0), 4, cv2.LINE_AA)\n",
    "                cv2.putText(image, \"index: {}\".format(str(round(index.y,2))), (20,60), cv2.FONT_HERSHEY_SIMPLEX, 1, (255, 255, 255), 5, cv2.LINE_AA)\n",
    "                cv2.putText(image, \"index: {}\".format(str(round(index.y,2))), (20,60), cv2.FONT_HERSHEY_SIMPLEX, 1, (0, 0, 0), 4, cv2.LINE_AA)\n",
    "                cv2.putText(image, \"middle: {}\".format(str(round(middle.y,2))), (20,90), cv2.FONT_HERSHEY_SIMPLEX, 1, (255, 255, 255), 5, cv2.LINE_AA)\n",
    "                cv2.putText(image, \"middle: {}\".format(str(round(middle.y,2))), (20,90), cv2.FONT_HERSHEY_SIMPLEX, 1, (0, 0, 0), 4, cv2.LINE_AA)\n",
    "                cv2.putText(image, \"ring: {}\".format(str(round(ring.y,2))), (20,120), cv2.FONT_HERSHEY_SIMPLEX, 1, (255, 255, 255), 5, cv2.LINE_AA)\n",
    "                cv2.putText(image, \"ring: {}\".format(str(round(ring.y,2))), (20,120), cv2.FONT_HERSHEY_SIMPLEX, 1, (0, 0, 0), 4, cv2.LINE_AA)\n",
    "                cv2.putText(image, \"pinky: {}\".format(str(round(pinky.y,2))), (20,150), cv2.FONT_HERSHEY_SIMPLEX, 1, (255, 255, 255), 5, cv2.LINE_AA)\n",
    "                cv2.putText(image, \"pinky: {}\".format(str(round(pinky.y,2))), (20,150), cv2.FONT_HERSHEY_SIMPLEX, 1, (0, 0, 0), 4, cv2.LINE_AA)\n",
    "\n",
    "\n",
    "\n",
    "                #--------------------------2.keypoint 사이 간격 구하기-------------------------------#\n",
    "                #손가락 사이 간격 구해보기\n",
    "                thumb_to_index = math.sqrt((index.x - thumb.x)**2 + (index.y - thumb.y)**2)\n",
    "                index_to_middle = math.sqrt((middle.x - index.x)**2 + (middle.y - index.y)**2)\n",
    "                middle_to_ring = math.sqrt((ring.x - middle.x)**2 + (ring.y - middle.y)**2)\n",
    "                ring_to_pinky = math.sqrt((pinky.x - ring.x)**2 + (pinky.y - ring.y)**2)\n",
    "\n",
    "\n",
    "                cv2.putText(image, \"thumb_to_index: {}\".format(str(round(thumb_to_index,2))), (20,200), cv2.FONT_HERSHEY_SIMPLEX, 1, (255, 255, 255), 5, cv2.LINE_AA)\n",
    "                cv2.putText(image, \"thumb_to_index: {}\".format(str(round(thumb_to_index,2))), (20,200), cv2.FONT_HERSHEY_SIMPLEX, 1, (0, 0, 0), 4, cv2.LINE_AA)\n",
    "                cv2.putText(image, \"index_to_middle: {}\".format(str(round(index_to_middle,2))), (20,230), cv2.FONT_HERSHEY_SIMPLEX, 1, (255, 255, 255), 5, cv2.LINE_AA)\n",
    "                cv2.putText(image, \"index_to_middle: {}\".format(str(round(index_to_middle,2))), (20,230), cv2.FONT_HERSHEY_SIMPLEX, 1, (0, 0, 0), 4, cv2.LINE_AA)\n",
    "                cv2.putText(image, \"middle_to_ring: {}\".format(str(round(middle_to_ring,2))), (20,260), cv2.FONT_HERSHEY_SIMPLEX, 1, (255, 255, 255), 5, cv2.LINE_AA)\n",
    "                cv2.putText(image, \"middle_to_ring: {}\".format(str(round(middle_to_ring,2))), (20,260), cv2.FONT_HERSHEY_SIMPLEX, 1, (0, 0, 0), 4, cv2.LINE_AA)\n",
    "                cv2.putText(image, \"ring_to_pinky: {}\".format(str(round(ring_to_pinky,2))), (20,290), cv2.FONT_HERSHEY_SIMPLEX, 1, (255, 255, 255), 5, cv2.LINE_AA)\n",
    "                cv2.putText(image, \"ring_to_pinky: {}\".format(str(round(ring_to_pinky,2))), (20,290), cv2.FONT_HERSHEY_SIMPLEX, 1, (0, 0, 0), 4, cv2.LINE_AA)\n",
    "\n",
    "\n",
    "\n",
    "                #------------------------------3.Hand Pose 예측-----------------------------------#\n",
    "                #손가락 사이 간격을 이용해 Pose 예측\n",
    "                this_action = \"None\"\n",
    "                if thumb_to_index < 0.1 and index_to_middle < 0.1 and middle_to_ring < 0.1 and ring_to_pinky < 0.1 :\n",
    "                    this_action = \"Rock\"\n",
    "                elif middle_to_ring > 0.25 and ring_to_pinky < 0.1 :\n",
    "                    this_action = \"Scissors\"\n",
    "                elif index_to_middle < 0.15 and middle_to_ring < 0.12 and ring_to_pinky > 0.07 :\n",
    "                    this_action = \"Paper\"\n",
    "\n",
    "                cv2.putText(image, \"this_action: {}\".format(str(this_action)), (20,350), cv2.FONT_HERSHEY_SIMPLEX, 1, (255, 255, 255), 5, cv2.LINE_AA)\n",
    "                cv2.putText(image, \"this_action: {}\".format(str(this_action)), (20,350), cv2.FONT_HERSHEY_SIMPLEX, 1, (0, 0, 0), 4, cv2.LINE_AA)\n",
    "\n",
    "        cv2.imshow('Hand Pose', image)\n",
    "        # vid_file.write(image)\n",
    "        if cv2.waitKey(10) & 0xFF == ord('q'):\n",
    "            break\n",
    "\n",
    "cap.release()\n",
    "cv2.destroyAllWindows()\n",
    "vid_file.release()\n",
    "#"
   ]
  },
  {
   "cell_type": "code",
   "execution_count": null,
   "metadata": {
    "jupyter": {
     "outputs_hidden": false,
     "source_hidden": false
    },
    "nteract": {
     "transient": {
      "deleting": false
     }
    }
   },
   "outputs": [],
   "source": [
    "# 1. keypoint의 x,y,z 좌표를 이용해서 관계를 알아내는 방법은 매우 다양함\n",
    "# 2. 여러 값을 출력해보면서 새로운 제스처에 맞는 조건식을 찾아보면 좋을 듯"
   ]
  }
 ],
 "metadata": {
  "kernelspec": {
   "display_name": "Python 3",
   "language": "python",
   "name": "python3"
  },
  "language_info": {
   "codemirror_mode": {
    "name": "ipython",
    "version": 3
   },
   "file_extension": ".py",
   "mimetype": "text/x-python",
   "name": "python",
   "nbconvert_exporter": "python",
   "pygments_lexer": "ipython3",
   "version": "3.7.6"
  }
 },
 "nbformat": 4,
 "nbformat_minor": 1
}
