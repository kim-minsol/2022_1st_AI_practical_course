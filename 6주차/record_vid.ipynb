{
  "cells": [
    {
      "cell_type": "code",
      "source": [
        "import cv2\n",
        "import time\n",
        "import datetime\n",
        "\n",
        "fourcc = cv2.VideoWriter_fourcc(*'DIVX')\n",
        "\n",
        "cap = cv2.VideoCapture(1)\n",
        "width = int(cap.get(3)) ; height = int(cap.get(4))\n",
        "fps = 30.0\n",
        "now = datetime.datetime.now()\n",
        "vid_file_name = \"{}.mp4\".format(now.strftime(\"%m%d_%H%M%S\"))\n",
        "vid_file = cv2.VideoWriter(vid_file_name, fourcc, fps, (width, height))\n",
        "\n",
        "strt_time = time.time()\n",
        "\n",
        "print('recording')\n",
        "while(time.time() - strt_time < 15):\n",
        "    ret, frame = cap.read()\n",
        "    cv2.imshow('video',frame)\n",
        "    vid_file.write(frame)\n",
        "\n",
        "    if cv2.waitKey(10) & 0xFF == ord('q'):\n",
        "        break\n",
        "\n",
        "cv2.destroyAllWindows()\n",
        "cap.release()\n",
        "vid_file.release()"
      ],
      "outputs": [],
      "execution_count": null,
      "metadata": {
        "jupyter": {
          "source_hidden": false,
          "outputs_hidden": false
        },
        "nteract": {
          "transient": {
            "deleting": false
          }
        }
      }
    }
  ],
  "metadata": {
    "kernelspec": {
      "argv": [
        "C:\\Users\\SDH\\Anaconda3\\envs\\tf2.3\\python.exe",
        "-m",
        "ipykernel_launcher",
        "-f",
        "{connection_file}"
      ],
      "display_name": "tf2.3",
      "language": "python",
      "name": "tf2.3"
    }
  },
  "nbformat": 4,
  "nbformat_minor": 0
}