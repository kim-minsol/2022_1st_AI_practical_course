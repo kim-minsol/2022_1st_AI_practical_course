{
 "cells": [
  {
   "cell_type": "markdown",
   "metadata": {
    "id": "2IxGvXKQ9bzS"
   },
   "source": [
    "# Implementation of Deep Convolutional GANs\n",
    "Reference: https://arxiv.org/pdf/1511.06434.pdf"
   ]
  },
  {
   "cell_type": "code",
   "execution_count": null,
   "metadata": {
    "colab": {
     "base_uri": "https://localhost:8080/"
    },
    "collapsed": true,
    "id": "PIR9iCZt9bzT",
    "outputId": "060581cd-6b32-4f60-b0a2-75849bfca1d9"
   },
   "outputs": [
    {
     "name": "stdout",
     "output_type": "stream",
     "text": [
      "Collecting wandb\n",
      "  Downloading wandb-0.12.9-py2.py3-none-any.whl (1.7 MB)\n",
      "\u001b[?25l\r",
      "\u001b[K     |▏                               | 10 kB 24.1 MB/s eta 0:00:01\r",
      "\u001b[K     |▍                               | 20 kB 28.2 MB/s eta 0:00:01\r",
      "\u001b[K     |▋                               | 30 kB 20.0 MB/s eta 0:00:01\r",
      "\u001b[K     |▊                               | 40 kB 16.3 MB/s eta 0:00:01\r",
      "\u001b[K     |█                               | 51 kB 10.1 MB/s eta 0:00:01\r",
      "\u001b[K     |█▏                              | 61 kB 10.7 MB/s eta 0:00:01\r",
      "\u001b[K     |█▍                              | 71 kB 8.6 MB/s eta 0:00:01\r",
      "\u001b[K     |█▌                              | 81 kB 9.6 MB/s eta 0:00:01\r",
      "\u001b[K     |█▊                              | 92 kB 10.6 MB/s eta 0:00:01\r",
      "\u001b[K     |██                              | 102 kB 9.4 MB/s eta 0:00:01\r",
      "\u001b[K     |██                              | 112 kB 9.4 MB/s eta 0:00:01\r",
      "\u001b[K     |██▎                             | 122 kB 9.4 MB/s eta 0:00:01\r",
      "\u001b[K     |██▌                             | 133 kB 9.4 MB/s eta 0:00:01\r",
      "\u001b[K     |██▊                             | 143 kB 9.4 MB/s eta 0:00:01\r",
      "\u001b[K     |██▉                             | 153 kB 9.4 MB/s eta 0:00:01\r",
      "\u001b[K     |███                             | 163 kB 9.4 MB/s eta 0:00:01\r",
      "\u001b[K     |███▎                            | 174 kB 9.4 MB/s eta 0:00:01\r",
      "\u001b[K     |███▍                            | 184 kB 9.4 MB/s eta 0:00:01\r",
      "\u001b[K     |███▋                            | 194 kB 9.4 MB/s eta 0:00:01\r",
      "\u001b[K     |███▉                            | 204 kB 9.4 MB/s eta 0:00:01\r",
      "\u001b[K     |████                            | 215 kB 9.4 MB/s eta 0:00:01\r",
      "\u001b[K     |████▏                           | 225 kB 9.4 MB/s eta 0:00:01\r",
      "\u001b[K     |████▍                           | 235 kB 9.4 MB/s eta 0:00:01\r",
      "\u001b[K     |████▋                           | 245 kB 9.4 MB/s eta 0:00:01\r",
      "\u001b[K     |████▉                           | 256 kB 9.4 MB/s eta 0:00:01\r",
      "\u001b[K     |█████                           | 266 kB 9.4 MB/s eta 0:00:01\r",
      "\u001b[K     |█████▏                          | 276 kB 9.4 MB/s eta 0:00:01\r",
      "\u001b[K     |█████▍                          | 286 kB 9.4 MB/s eta 0:00:01\r",
      "\u001b[K     |█████▌                          | 296 kB 9.4 MB/s eta 0:00:01\r",
      "\u001b[K     |█████▊                          | 307 kB 9.4 MB/s eta 0:00:01\r",
      "\u001b[K     |██████                          | 317 kB 9.4 MB/s eta 0:00:01\r",
      "\u001b[K     |██████▏                         | 327 kB 9.4 MB/s eta 0:00:01\r",
      "\u001b[K     |██████▎                         | 337 kB 9.4 MB/s eta 0:00:01\r",
      "\u001b[K     |██████▌                         | 348 kB 9.4 MB/s eta 0:00:01\r",
      "\u001b[K     |██████▊                         | 358 kB 9.4 MB/s eta 0:00:01\r",
      "\u001b[K     |██████▉                         | 368 kB 9.4 MB/s eta 0:00:01\r",
      "\u001b[K     |███████                         | 378 kB 9.4 MB/s eta 0:00:01\r",
      "\u001b[K     |███████▎                        | 389 kB 9.4 MB/s eta 0:00:01\r",
      "\u001b[K     |███████▌                        | 399 kB 9.4 MB/s eta 0:00:01\r",
      "\u001b[K     |███████▋                        | 409 kB 9.4 MB/s eta 0:00:01\r",
      "\u001b[K     |███████▉                        | 419 kB 9.4 MB/s eta 0:00:01\r",
      "\u001b[K     |████████                        | 430 kB 9.4 MB/s eta 0:00:01\r",
      "\u001b[K     |████████▎                       | 440 kB 9.4 MB/s eta 0:00:01\r",
      "\u001b[K     |████████▍                       | 450 kB 9.4 MB/s eta 0:00:01\r",
      "\u001b[K     |████████▋                       | 460 kB 9.4 MB/s eta 0:00:01\r",
      "\u001b[K     |████████▉                       | 471 kB 9.4 MB/s eta 0:00:01\r",
      "\u001b[K     |█████████                       | 481 kB 9.4 MB/s eta 0:00:01\r",
      "\u001b[K     |█████████▏                      | 491 kB 9.4 MB/s eta 0:00:01\r",
      "\u001b[K     |█████████▍                      | 501 kB 9.4 MB/s eta 0:00:01\r",
      "\u001b[K     |█████████▋                      | 512 kB 9.4 MB/s eta 0:00:01\r",
      "\u001b[K     |█████████▊                      | 522 kB 9.4 MB/s eta 0:00:01\r",
      "\u001b[K     |██████████                      | 532 kB 9.4 MB/s eta 0:00:01\r",
      "\u001b[K     |██████████▏                     | 542 kB 9.4 MB/s eta 0:00:01\r",
      "\u001b[K     |██████████▎                     | 552 kB 9.4 MB/s eta 0:00:01\r",
      "\u001b[K     |██████████▌                     | 563 kB 9.4 MB/s eta 0:00:01\r",
      "\u001b[K     |██████████▊                     | 573 kB 9.4 MB/s eta 0:00:01\r",
      "\u001b[K     |███████████                     | 583 kB 9.4 MB/s eta 0:00:01\r",
      "\u001b[K     |███████████                     | 593 kB 9.4 MB/s eta 0:00:01\r",
      "\u001b[K     |███████████▎                    | 604 kB 9.4 MB/s eta 0:00:01\r",
      "\u001b[K     |███████████▌                    | 614 kB 9.4 MB/s eta 0:00:01\r",
      "\u001b[K     |███████████▋                    | 624 kB 9.4 MB/s eta 0:00:01\r",
      "\u001b[K     |███████████▉                    | 634 kB 9.4 MB/s eta 0:00:01\r",
      "\u001b[K     |████████████                    | 645 kB 9.4 MB/s eta 0:00:01\r",
      "\u001b[K     |████████████▎                   | 655 kB 9.4 MB/s eta 0:00:01\r",
      "\u001b[K     |████████████▍                   | 665 kB 9.4 MB/s eta 0:00:01\r",
      "\u001b[K     |████████████▋                   | 675 kB 9.4 MB/s eta 0:00:01\r",
      "\u001b[K     |████████████▉                   | 686 kB 9.4 MB/s eta 0:00:01\r",
      "\u001b[K     |█████████████                   | 696 kB 9.4 MB/s eta 0:00:01\r",
      "\u001b[K     |█████████████▏                  | 706 kB 9.4 MB/s eta 0:00:01\r",
      "\u001b[K     |█████████████▍                  | 716 kB 9.4 MB/s eta 0:00:01\r",
      "\u001b[K     |█████████████▋                  | 727 kB 9.4 MB/s eta 0:00:01\r",
      "\u001b[K     |█████████████▊                  | 737 kB 9.4 MB/s eta 0:00:01\r",
      "\u001b[K     |██████████████                  | 747 kB 9.4 MB/s eta 0:00:01\r",
      "\u001b[K     |██████████████▏                 | 757 kB 9.4 MB/s eta 0:00:01\r",
      "\u001b[K     |██████████████▍                 | 768 kB 9.4 MB/s eta 0:00:01\r",
      "\u001b[K     |██████████████▌                 | 778 kB 9.4 MB/s eta 0:00:01\r",
      "\u001b[K     |██████████████▊                 | 788 kB 9.4 MB/s eta 0:00:01\r",
      "\u001b[K     |███████████████                 | 798 kB 9.4 MB/s eta 0:00:01\r",
      "\u001b[K     |███████████████                 | 808 kB 9.4 MB/s eta 0:00:01\r",
      "\u001b[K     |███████████████▎                | 819 kB 9.4 MB/s eta 0:00:01\r",
      "\u001b[K     |███████████████▌                | 829 kB 9.4 MB/s eta 0:00:01\r",
      "\u001b[K     |███████████████▊                | 839 kB 9.4 MB/s eta 0:00:01\r",
      "\u001b[K     |███████████████▉                | 849 kB 9.4 MB/s eta 0:00:01\r",
      "\u001b[K     |████████████████                | 860 kB 9.4 MB/s eta 0:00:01\r",
      "\u001b[K     |████████████████▎               | 870 kB 9.4 MB/s eta 0:00:01\r",
      "\u001b[K     |████████████████▌               | 880 kB 9.4 MB/s eta 0:00:01\r",
      "\u001b[K     |████████████████▋               | 890 kB 9.4 MB/s eta 0:00:01\r",
      "\u001b[K     |████████████████▉               | 901 kB 9.4 MB/s eta 0:00:01\r",
      "\u001b[K     |█████████████████               | 911 kB 9.4 MB/s eta 0:00:01\r",
      "\u001b[K     |█████████████████▏              | 921 kB 9.4 MB/s eta 0:00:01\r",
      "\u001b[K     |█████████████████▍              | 931 kB 9.4 MB/s eta 0:00:01\r",
      "\u001b[K     |█████████████████▋              | 942 kB 9.4 MB/s eta 0:00:01\r",
      "\u001b[K     |█████████████████▉              | 952 kB 9.4 MB/s eta 0:00:01\r",
      "\u001b[K     |██████████████████              | 962 kB 9.4 MB/s eta 0:00:01\r",
      "\u001b[K     |██████████████████▏             | 972 kB 9.4 MB/s eta 0:00:01\r",
      "\u001b[K     |██████████████████▍             | 983 kB 9.4 MB/s eta 0:00:01\r",
      "\u001b[K     |██████████████████▌             | 993 kB 9.4 MB/s eta 0:00:01\r",
      "\u001b[K     |██████████████████▊             | 1.0 MB 9.4 MB/s eta 0:00:01\r",
      "\u001b[K     |███████████████████             | 1.0 MB 9.4 MB/s eta 0:00:01\r",
      "\u001b[K     |███████████████████▏            | 1.0 MB 9.4 MB/s eta 0:00:01\r",
      "\u001b[K     |███████████████████▎            | 1.0 MB 9.4 MB/s eta 0:00:01\r",
      "\u001b[K     |███████████████████▌            | 1.0 MB 9.4 MB/s eta 0:00:01\r",
      "\u001b[K     |███████████████████▊            | 1.1 MB 9.4 MB/s eta 0:00:01\r",
      "\u001b[K     |███████████████████▉            | 1.1 MB 9.4 MB/s eta 0:00:01\r",
      "\u001b[K     |████████████████████            | 1.1 MB 9.4 MB/s eta 0:00:01\r",
      "\u001b[K     |████████████████████▎           | 1.1 MB 9.4 MB/s eta 0:00:01\r",
      "\u001b[K     |████████████████████▌           | 1.1 MB 9.4 MB/s eta 0:00:01\r",
      "\u001b[K     |████████████████████▋           | 1.1 MB 9.4 MB/s eta 0:00:01\r",
      "\u001b[K     |████████████████████▉           | 1.1 MB 9.4 MB/s eta 0:00:01\r",
      "\u001b[K     |█████████████████████           | 1.1 MB 9.4 MB/s eta 0:00:01\r",
      "\u001b[K     |█████████████████████▎          | 1.1 MB 9.4 MB/s eta 0:00:01\r",
      "\u001b[K     |█████████████████████▍          | 1.1 MB 9.4 MB/s eta 0:00:01\r",
      "\u001b[K     |█████████████████████▋          | 1.2 MB 9.4 MB/s eta 0:00:01\r",
      "\u001b[K     |█████████████████████▉          | 1.2 MB 9.4 MB/s eta 0:00:01\r",
      "\u001b[K     |██████████████████████          | 1.2 MB 9.4 MB/s eta 0:00:01\r",
      "\u001b[K     |██████████████████████▏         | 1.2 MB 9.4 MB/s eta 0:00:01\r",
      "\u001b[K     |██████████████████████▍         | 1.2 MB 9.4 MB/s eta 0:00:01\r",
      "\u001b[K     |██████████████████████▋         | 1.2 MB 9.4 MB/s eta 0:00:01\r",
      "\u001b[K     |██████████████████████▊         | 1.2 MB 9.4 MB/s eta 0:00:01\r",
      "\u001b[K     |███████████████████████         | 1.2 MB 9.4 MB/s eta 0:00:01\r",
      "\u001b[K     |███████████████████████▏        | 1.2 MB 9.4 MB/s eta 0:00:01\r",
      "\u001b[K     |███████████████████████▎        | 1.2 MB 9.4 MB/s eta 0:00:01\r",
      "\u001b[K     |███████████████████████▌        | 1.3 MB 9.4 MB/s eta 0:00:01\r",
      "\u001b[K     |███████████████████████▊        | 1.3 MB 9.4 MB/s eta 0:00:01\r",
      "\u001b[K     |████████████████████████        | 1.3 MB 9.4 MB/s eta 0:00:01\r",
      "\u001b[K     |████████████████████████        | 1.3 MB 9.4 MB/s eta 0:00:01\r",
      "\u001b[K     |████████████████████████▎       | 1.3 MB 9.4 MB/s eta 0:00:01\r",
      "\u001b[K     |████████████████████████▌       | 1.3 MB 9.4 MB/s eta 0:00:01\r",
      "\u001b[K     |████████████████████████▊       | 1.3 MB 9.4 MB/s eta 0:00:01\r",
      "\u001b[K     |████████████████████████▉       | 1.3 MB 9.4 MB/s eta 0:00:01\r",
      "\u001b[K     |█████████████████████████       | 1.3 MB 9.4 MB/s eta 0:00:01\r",
      "\u001b[K     |█████████████████████████▎      | 1.4 MB 9.4 MB/s eta 0:00:01\r",
      "\u001b[K     |█████████████████████████▍      | 1.4 MB 9.4 MB/s eta 0:00:01\r",
      "\u001b[K     |█████████████████████████▋      | 1.4 MB 9.4 MB/s eta 0:00:01\r",
      "\u001b[K     |█████████████████████████▉      | 1.4 MB 9.4 MB/s eta 0:00:01\r",
      "\u001b[K     |██████████████████████████      | 1.4 MB 9.4 MB/s eta 0:00:01\r",
      "\u001b[K     |██████████████████████████▏     | 1.4 MB 9.4 MB/s eta 0:00:01\r",
      "\u001b[K     |██████████████████████████▍     | 1.4 MB 9.4 MB/s eta 0:00:01\r",
      "\u001b[K     |██████████████████████████▋     | 1.4 MB 9.4 MB/s eta 0:00:01\r",
      "\u001b[K     |██████████████████████████▊     | 1.4 MB 9.4 MB/s eta 0:00:01\r",
      "\u001b[K     |███████████████████████████     | 1.4 MB 9.4 MB/s eta 0:00:01\r",
      "\u001b[K     |███████████████████████████▏    | 1.5 MB 9.4 MB/s eta 0:00:01\r",
      "\u001b[K     |███████████████████████████▍    | 1.5 MB 9.4 MB/s eta 0:00:01\r",
      "\u001b[K     |███████████████████████████▌    | 1.5 MB 9.4 MB/s eta 0:00:01\r",
      "\u001b[K     |███████████████████████████▊    | 1.5 MB 9.4 MB/s eta 0:00:01\r",
      "\u001b[K     |████████████████████████████    | 1.5 MB 9.4 MB/s eta 0:00:01\r",
      "\u001b[K     |████████████████████████████▏   | 1.5 MB 9.4 MB/s eta 0:00:01\r",
      "\u001b[K     |████████████████████████████▎   | 1.5 MB 9.4 MB/s eta 0:00:01\r",
      "\u001b[K     |████████████████████████████▌   | 1.5 MB 9.4 MB/s eta 0:00:01\r",
      "\u001b[K     |████████████████████████████▊   | 1.5 MB 9.4 MB/s eta 0:00:01\r",
      "\u001b[K     |████████████████████████████▉   | 1.5 MB 9.4 MB/s eta 0:00:01\r",
      "\u001b[K     |█████████████████████████████   | 1.6 MB 9.4 MB/s eta 0:00:01\r",
      "\u001b[K     |█████████████████████████████▎  | 1.6 MB 9.4 MB/s eta 0:00:01\r",
      "\u001b[K     |█████████████████████████████▌  | 1.6 MB 9.4 MB/s eta 0:00:01\r",
      "\u001b[K     |█████████████████████████████▋  | 1.6 MB 9.4 MB/s eta 0:00:01\r",
      "\u001b[K     |█████████████████████████████▉  | 1.6 MB 9.4 MB/s eta 0:00:01\r",
      "\u001b[K     |██████████████████████████████  | 1.6 MB 9.4 MB/s eta 0:00:01\r",
      "\u001b[K     |██████████████████████████████▏ | 1.6 MB 9.4 MB/s eta 0:00:01\r",
      "\u001b[K     |██████████████████████████████▍ | 1.6 MB 9.4 MB/s eta 0:00:01\r",
      "\u001b[K     |██████████████████████████████▋ | 1.6 MB 9.4 MB/s eta 0:00:01\r",
      "\u001b[K     |██████████████████████████████▉ | 1.6 MB 9.4 MB/s eta 0:00:01\r",
      "\u001b[K     |███████████████████████████████ | 1.7 MB 9.4 MB/s eta 0:00:01\r",
      "\u001b[K     |███████████████████████████████▏| 1.7 MB 9.4 MB/s eta 0:00:01\r",
      "\u001b[K     |███████████████████████████████▍| 1.7 MB 9.4 MB/s eta 0:00:01\r",
      "\u001b[K     |███████████████████████████████▌| 1.7 MB 9.4 MB/s eta 0:00:01\r",
      "\u001b[K     |███████████████████████████████▊| 1.7 MB 9.4 MB/s eta 0:00:01\r",
      "\u001b[K     |████████████████████████████████| 1.7 MB 9.4 MB/s eta 0:00:01\r",
      "\u001b[K     |████████████████████████████████| 1.7 MB 9.4 MB/s \n",
      "\u001b[?25hCollecting shortuuid>=0.5.0\n",
      "  Downloading shortuuid-1.0.8-py3-none-any.whl (9.5 kB)\n",
      "Collecting docker-pycreds>=0.4.0\n",
      "  Downloading docker_pycreds-0.4.0-py2.py3-none-any.whl (9.0 kB)\n",
      "Requirement already satisfied: PyYAML in /usr/local/lib/python3.7/dist-packages (from wandb) (3.13)\n",
      "Requirement already satisfied: requests<3,>=2.0.0 in /usr/local/lib/python3.7/dist-packages (from wandb) (2.23.0)\n",
      "Requirement already satisfied: python-dateutil>=2.6.1 in /usr/local/lib/python3.7/dist-packages (from wandb) (2.8.2)\n",
      "Requirement already satisfied: six>=1.13.0 in /usr/local/lib/python3.7/dist-packages (from wandb) (1.15.0)\n",
      "Collecting configparser>=3.8.1\n",
      "  Downloading configparser-5.2.0-py3-none-any.whl (19 kB)\n",
      "Collecting sentry-sdk>=1.0.0\n",
      "  Downloading sentry_sdk-1.5.4-py2.py3-none-any.whl (143 kB)\n",
      "\u001b[K     |████████████████████████████████| 143 kB 67.3 MB/s \n",
      "\u001b[?25hCollecting GitPython>=1.0.0\n",
      "  Downloading GitPython-3.1.26-py3-none-any.whl (180 kB)\n",
      "\u001b[K     |████████████████████████████████| 180 kB 67.0 MB/s \n",
      "\u001b[?25hCollecting subprocess32>=3.5.3\n",
      "  Downloading subprocess32-3.5.4.tar.gz (97 kB)\n",
      "\u001b[K     |████████████████████████████████| 97 kB 8.0 MB/s \n",
      "\u001b[?25hRequirement already satisfied: Click!=8.0.0,>=7.0 in /usr/local/lib/python3.7/dist-packages (from wandb) (7.1.2)\n",
      "Requirement already satisfied: promise<3,>=2.0 in /usr/local/lib/python3.7/dist-packages (from wandb) (2.3)\n",
      "Collecting pathtools\n",
      "  Downloading pathtools-0.1.2.tar.gz (11 kB)\n",
      "Collecting yaspin>=1.0.0\n",
      "  Downloading yaspin-2.1.0-py3-none-any.whl (18 kB)\n",
      "Requirement already satisfied: protobuf>=3.12.0 in /usr/local/lib/python3.7/dist-packages (from wandb) (3.17.3)\n",
      "Requirement already satisfied: psutil>=5.0.0 in /usr/local/lib/python3.7/dist-packages (from wandb) (5.4.8)\n",
      "Requirement already satisfied: typing-extensions>=3.7.4.3 in /usr/local/lib/python3.7/dist-packages (from GitPython>=1.0.0->wandb) (3.10.0.2)\n",
      "Collecting gitdb<5,>=4.0.1\n",
      "  Downloading gitdb-4.0.9-py3-none-any.whl (63 kB)\n",
      "\u001b[K     |████████████████████████████████| 63 kB 1.8 MB/s \n",
      "\u001b[?25hCollecting smmap<6,>=3.0.1\n",
      "  Downloading smmap-5.0.0-py3-none-any.whl (24 kB)\n",
      "Requirement already satisfied: idna<3,>=2.5 in /usr/local/lib/python3.7/dist-packages (from requests<3,>=2.0.0->wandb) (2.10)\n",
      "Requirement already satisfied: certifi>=2017.4.17 in /usr/local/lib/python3.7/dist-packages (from requests<3,>=2.0.0->wandb) (2021.10.8)\n",
      "Requirement already satisfied: urllib3!=1.25.0,!=1.25.1,<1.26,>=1.21.1 in /usr/local/lib/python3.7/dist-packages (from requests<3,>=2.0.0->wandb) (1.24.3)\n",
      "Requirement already satisfied: chardet<4,>=3.0.2 in /usr/local/lib/python3.7/dist-packages (from requests<3,>=2.0.0->wandb) (3.0.4)\n",
      "Requirement already satisfied: termcolor<2.0.0,>=1.1.0 in /usr/local/lib/python3.7/dist-packages (from yaspin>=1.0.0->wandb) (1.1.0)\n",
      "Building wheels for collected packages: subprocess32, pathtools\n",
      "  Building wheel for subprocess32 (setup.py) ... \u001b[?25l\u001b[?25hdone\n",
      "  Created wheel for subprocess32: filename=subprocess32-3.5.4-py3-none-any.whl size=6502 sha256=a5a7a88da96d131146f386374a2d1b66d5f2ee054d43041fa9643e5eb2a3d809\n",
      "  Stored in directory: /root/.cache/pip/wheels/50/ca/fa/8fca8d246e64f19488d07567547ddec8eb084e8c0d7a59226a\n",
      "  Building wheel for pathtools (setup.py) ... \u001b[?25l\u001b[?25hdone\n",
      "  Created wheel for pathtools: filename=pathtools-0.1.2-py3-none-any.whl size=8806 sha256=2d288755573aa12af794c927d8028a7f9ae5641e75259d5336f2b7bccd615b78\n",
      "  Stored in directory: /root/.cache/pip/wheels/3e/31/09/fa59cef12cdcfecc627b3d24273699f390e71828921b2cbba2\n",
      "Successfully built subprocess32 pathtools\n",
      "Installing collected packages: smmap, gitdb, yaspin, subprocess32, shortuuid, sentry-sdk, pathtools, GitPython, docker-pycreds, configparser, wandb\n",
      "Successfully installed GitPython-3.1.26 configparser-5.2.0 docker-pycreds-0.4.0 gitdb-4.0.9 pathtools-0.1.2 sentry-sdk-1.5.4 shortuuid-1.0.8 smmap-5.0.0 subprocess32-3.5.4 wandb-0.12.9 yaspin-2.1.0\n"
     ]
    }
   ],
   "source": [
    "! pip install wandb"
   ]
  },
  {
   "cell_type": "code",
   "execution_count": null,
   "metadata": {
    "colab": {
     "base_uri": "https://localhost:8080/",
     "height": 91
    },
    "id": "OPn-luXXJNLj",
    "outputId": "69e07209-177d-425c-de13-40c22a0d3f24"
   },
   "outputs": [
    {
     "data": {
      "application/javascript": [
       "\n",
       "        window._wandbApiKey = new Promise((resolve, reject) => {\n",
       "            function loadScript(url) {\n",
       "            return new Promise(function(resolve, reject) {\n",
       "                let newScript = document.createElement(\"script\");\n",
       "                newScript.onerror = reject;\n",
       "                newScript.onload = resolve;\n",
       "                document.body.appendChild(newScript);\n",
       "                newScript.src = url;\n",
       "            });\n",
       "            }\n",
       "            loadScript(\"https://cdn.jsdelivr.net/npm/postmate/build/postmate.min.js\").then(() => {\n",
       "            const iframe = document.createElement('iframe')\n",
       "            iframe.style.cssText = \"width:0;height:0;border:none\"\n",
       "            document.body.appendChild(iframe)\n",
       "            const handshake = new Postmate({\n",
       "                container: iframe,\n",
       "                url: 'https://wandb.ai/authorize'\n",
       "            });\n",
       "            const timeout = setTimeout(() => reject(\"Couldn't auto authenticate\"), 5000)\n",
       "            handshake.then(function(child) {\n",
       "                child.on('authorize', data => {\n",
       "                    clearTimeout(timeout)\n",
       "                    resolve(data)\n",
       "                });\n",
       "            });\n",
       "            })\n",
       "        });\n",
       "    "
      ],
      "text/plain": [
       "<IPython.core.display.Javascript object>"
      ]
     },
     "metadata": {},
     "output_type": "display_data"
    },
    {
     "name": "stderr",
     "output_type": "stream",
     "text": [
      "\u001b[34m\u001b[1mwandb\u001b[0m: Appending key for api.wandb.ai to your netrc file: /root/.netrc\n"
     ]
    },
    {
     "data": {
      "text/html": [
       "\n",
       "                    Syncing run <strong><a href=\"https://wandb.ai/kochanha/DCGAN/runs/2741s4ed\" target=\"_blank\">colab</a></strong> to <a href=\"https://wandb.ai/kochanha/DCGAN\" target=\"_blank\">Weights & Biases</a> (<a href=\"https://docs.wandb.com/integrations/jupyter.html\" target=\"_blank\">docs</a>).<br/>\n",
       "\n",
       "                "
      ],
      "text/plain": [
       "<IPython.core.display.HTML object>"
      ]
     },
     "metadata": {},
     "output_type": "display_data"
    },
    {
     "data": {
      "text/html": [
       "<button onClick=\"this.nextSibling.style.display='block';this.style.display='none';\">Display W&B run</button><iframe src=\"https://wandb.ai/kochanha/DCGAN/runs/2741s4ed?jupyter=true\" style=\"border:none;width:100%;height:420px;display:none;\"></iframe>"
      ],
      "text/plain": [
       "<wandb.sdk.wandb_run.Run at 0x7fb932d20a50>"
      ]
     },
     "execution_count": 2,
     "metadata": {},
     "output_type": "execute_result"
    }
   ],
   "source": [
    "import wandb\n",
    "wandb.init(project=\"DCGAN\", entity=\"YOUR_ID\", name=\"colab\")"
   ]
  },
  {
   "cell_type": "code",
   "execution_count": null,
   "metadata": {
    "collapsed": true,
    "id": "V7BSwWpN9bzU"
   },
   "outputs": [],
   "source": [
    "import torch\n",
    "import torchvision\n",
    "import torch.nn as nn\n",
    "import torch.nn.functional as F\n",
    "from torch.utils.data import DataLoader\n",
    "from torch.utils.data.dataset import Dataset\n",
    "from torchvision import datasets\n",
    "from torchvision import transforms\n",
    "from torchvision.utils import save_image\n",
    "import numpy as np\n",
    "import datetime\n",
    "import os, sys\n",
    "import glob\n",
    "from PIL import Image\n",
    "from matplotlib.pyplot import imshow, imsave\n",
    "%matplotlib inline"
   ]
  },
  {
   "cell_type": "code",
   "execution_count": null,
   "metadata": {
    "id": "JgRmEJeyJ5up"
   },
   "outputs": [],
   "source": [
    "file_id=\"1NE2NQvaNf_f_9iSUyWC28aQXSrDXK3r4\"\n",
    "file_name=\"data.zip\""
   ]
  },
  {
   "cell_type": "code",
   "execution_count": null,
   "metadata": {
    "id": "7fMbKn-jLtou"
   },
   "outputs": [],
   "source": [
    "! wget --load-cookies /tmp/cookies.txt \"https://docs.google.com/uc?export=download&confirm=$(wget --quiet --save-cookies /tmp/cookies.txt --keep-session-cookies --no-check-certificate 'https://docs.google.com/uc?export=download&id={file_id}' -O- | sed -rn 's/.*confirm=([0-9A-Za-z_]+).*/\\1\\n/p')&id={file_id}\" -O {file_name} && rm -rf /tmp/cookies.txt\n",
    "! unzip {file_name}"
   ]
  },
  {
   "cell_type": "code",
   "execution_count": null,
   "metadata": {
    "collapsed": true,
    "id": "9JHwS5AY9bzW"
   },
   "outputs": [],
   "source": [
    "MODEL_NAME = 'DCGAN'\n",
    "DEVICE = torch.device(\"cuda:0\" if torch.cuda.is_available() else \"cpu\")"
   ]
  },
  {
   "cell_type": "code",
   "execution_count": null,
   "metadata": {
    "collapsed": true,
    "id": "F_tNY2rB9bzX"
   },
   "outputs": [],
   "source": [
    "IMAGE_DIM = (32, 32, 3)"
   ]
  },
  {
   "cell_type": "code",
   "execution_count": null,
   "metadata": {
    "collapsed": true,
    "id": "ovacpI2X9bzX"
   },
   "outputs": [],
   "source": [
    "def get_sample_image(G, n_noise):\n",
    "    \"\"\"\n",
    "        save sample 100 images\n",
    "    \"\"\"\n",
    "    z = torch.randn(10, n_noise).to(DEVICE)\n",
    "    y_hat = G(z).view(10, 3, 32, 32).permute(0, 2, 3, 1) # (100, 28, 28)\n",
    "    result = (y_hat.detach().cpu().numpy()+1)/2.\n",
    "    return result"
   ]
  },
  {
   "cell_type": "code",
   "execution_count": null,
   "metadata": {
    "collapsed": true,
    "id": "1qjyB5Bg9bzX"
   },
   "outputs": [],
   "source": [
    "class Discriminator(nn.Module):\n",
    "    \"\"\"\n",
    "        Convolutional Discriminator for MNIST\n",
    "    \"\"\"\n",
    "    def __init__(self, in_channel=1, num_classes=1):\n",
    "        super(Discriminator, self).__init__()\n",
    "        self.conv = nn.Sequential(\n",
    "            # 28 -> 14\n",
    "            nn.Conv2d(in_channel, 512, 3, stride=2, padding=1, bias=False),\n",
    "            nn.BatchNorm2d(512),\n",
    "            nn.LeakyReLU(0.2),\n",
    "            # 14 -> 7\n",
    "            nn.Conv2d(512, 256, 3, stride=2, padding=1, bias=False),\n",
    "            nn.BatchNorm2d(256),\n",
    "            nn.LeakyReLU(0.2),\n",
    "            # 7 -> 4\n",
    "            nn.Conv2d(256, 128, 3, stride=2, padding=1, bias=False),\n",
    "            nn.BatchNorm2d(128),\n",
    "            nn.LeakyReLU(0.2),\n",
    "            # \n",
    "            nn.Conv2d(128, 128, 3, stride=2, padding=1, bias=False),\n",
    "            nn.BatchNorm2d(128),\n",
    "            nn.LeakyReLU(0.2),\n",
    "            nn.AdaptiveAvgPool2d(1),\n",
    "        )        \n",
    "        self.fc = nn.Sequential(\n",
    "            # reshape input, 128 -> 1\n",
    "            # nn.Dropout(0.4),\n",
    "            nn.Linear(128, 1),\n",
    "            nn.Sigmoid(),\n",
    "        )\n",
    "    \n",
    "    def forward(self, x, y=None):\n",
    "        y_ = self.conv(x)\n",
    "        y_ = y_.view(y_.size(0), -1)\n",
    "        y_ = self.fc(y_)\n",
    "        return y_"
   ]
  },
  {
   "cell_type": "code",
   "execution_count": null,
   "metadata": {
    "collapsed": true,
    "id": "MtFD-MoZ9bzY"
   },
   "outputs": [],
   "source": [
    "class Generator(nn.Module):\n",
    "    \"\"\"\n",
    "        Convolutional Generator for MNIST\n",
    "    \"\"\"\n",
    "    def __init__(self, out_channel=1, input_size=100, num_classes=784):\n",
    "        super(Generator, self).__init__()\n",
    "        assert IMAGE_DIM[0] % 2**4 == 0, 'Should be divided 16'\n",
    "        self.init_dim = (IMAGE_DIM[0] // 2**4, IMAGE_DIM[1] // 2**4)\n",
    "        self.fc = nn.Sequential(\n",
    "            nn.Linear(input_size, self.init_dim[0]*self.init_dim[1]*512),\n",
    "            nn.ReLU(),\n",
    "        )\n",
    "        self.conv = nn.Sequential(\n",
    "            nn.Conv2d(512, 512, 3, padding=1, bias=False),\n",
    "            nn.BatchNorm2d(512),\n",
    "            nn.ReLU(),\n",
    "            # x2\n",
    "            nn.ConvTranspose2d(512, 256, 4, stride=2, padding=1, bias=False),\n",
    "            nn.BatchNorm2d(256),\n",
    "            nn.ReLU(),\n",
    "            # x2\n",
    "            nn.ConvTranspose2d(256, 128, 4, stride=2, padding=1, bias=False),\n",
    "            nn.BatchNorm2d(128),\n",
    "            nn.ReLU(),\n",
    "            # x2\n",
    "            nn.ConvTranspose2d(128, 128, 4, stride=2, padding=1, bias=False),\n",
    "            nn.BatchNorm2d(128),\n",
    "            nn.ReLU(),\n",
    "            # x2\n",
    "            nn.ConvTranspose2d(128, out_channel, 4, stride=2, padding=1, bias=False),\n",
    "            nn.Tanh(),\n",
    "        )\n",
    "        \n",
    "    def forward(self, x, y=None):\n",
    "        x = x.view(x.size(0), -1)\n",
    "        y_ = self.fc(x)\n",
    "        y_ = y_.view(y_.size(0), 512, self.init_dim[0], self.init_dim[1])\n",
    "        y_ = self.conv(y_)\n",
    "        return y_"
   ]
  },
  {
   "cell_type": "code",
   "execution_count": null,
   "metadata": {
    "collapsed": true,
    "id": "vlDU3VqK9bzZ"
   },
   "outputs": [],
   "source": [
    "class CARS(Dataset):\n",
    "\n",
    "    def __init__(self, data_path, transform=None):\n",
    "\n",
    "        self.data_path = data_path\n",
    "        self.transform = transform\n",
    "        self.fpaths = sorted(glob.glob(os.path.join(data_path, '*.jpg')))\n",
    "\n",
    "    def __getitem__(self, idx):\n",
    "        img = self.transform(Image.open(self.fpaths[idx]))\n",
    "        return img\n",
    "\n",
    "    def __len__(self):\n",
    "        return len(self.fpaths)"
   ]
  },
  {
   "cell_type": "code",
   "execution_count": null,
   "metadata": {
    "collapsed": true,
    "id": "MNNhpM439bzZ"
   },
   "outputs": [],
   "source": [
    "D = Discriminator(in_channel=IMAGE_DIM[-1]).to(DEVICE)\n",
    "G = Generator(out_channel=IMAGE_DIM[-1]).to(DEVICE)\n",
    "# D.load_state_dict('D_dc.pkl')\n",
    "# G.load_state_dict('G_dc.pkl')"
   ]
  },
  {
   "cell_type": "code",
   "execution_count": null,
   "metadata": {
    "collapsed": true,
    "id": "RPgzUwSF9bza"
   },
   "outputs": [],
   "source": [
    "transform = transforms.Compose([transforms.Resize((IMAGE_DIM[0],IMAGE_DIM[1])),\n",
    "                                transforms.ToTensor(),\n",
    "                                transforms.Normalize(mean=(0.5, 0.5, 0.5),\n",
    "                                std=(0.5, 0.5, 0.5))\n",
    "                               ]\n",
    ")"
   ]
  },
  {
   "cell_type": "code",
   "execution_count": null,
   "metadata": {
    "collapsed": true,
    "id": "6QU0BtCF9bza"
   },
   "outputs": [],
   "source": [
    "dataset = CARS(data_path='./img_align_celeba/', transform=transform)"
   ]
  },
  {
   "cell_type": "code",
   "execution_count": null,
   "metadata": {
    "collapsed": true,
    "id": "HSjcLB5L9bza"
   },
   "outputs": [],
   "source": [
    "batch_size = 64"
   ]
  },
  {
   "cell_type": "code",
   "execution_count": null,
   "metadata": {
    "colab": {
     "base_uri": "https://localhost:8080/"
    },
    "collapsed": true,
    "id": "iNpsGoOH9bza",
    "outputId": "3fe3f86d-a549-4d2c-9f22-2a5a4535dcbc"
   },
   "outputs": [
    {
     "name": "stderr",
     "output_type": "stream",
     "text": [
      "/usr/local/lib/python3.7/dist-packages/torch/utils/data/dataloader.py:481: UserWarning: This DataLoader will create 8 worker processes in total. Our suggested max number of worker in current system is 2, which is smaller than what this DataLoader is going to create. Please be aware that excessive worker creation might get DataLoader running slow or even freeze, lower the worker number to avoid potential slowness/freeze if necessary.\n",
      "  cpuset_checked))\n"
     ]
    }
   ],
   "source": [
    "data_loader = DataLoader(dataset=dataset, batch_size=batch_size, shuffle=True, drop_last=True, num_workers=8)"
   ]
  },
  {
   "cell_type": "code",
   "execution_count": null,
   "metadata": {
    "collapsed": true,
    "id": "TCYxRY1W9bzb"
   },
   "outputs": [],
   "source": [
    "criterion = nn.BCELoss()\n",
    "beta1 = 0.5\n",
    "beta2 = 0.999\n",
    "\n",
    "lr = 0.001 # 0.0002\n",
    "D_opt = torch.optim.Adam(D.parameters(), lr=lr, betas=(beta1, beta2))\n",
    "G_opt = torch.optim.Adam(G.parameters(), lr=lr, betas=(beta1, beta2))"
   ]
  },
  {
   "cell_type": "code",
   "execution_count": null,
   "metadata": {
    "collapsed": true,
    "id": "9sS_K0rt9bzb"
   },
   "outputs": [],
   "source": [
    "max_epoch = 10\n",
    "step = 0\n",
    "n_critic = 1 # for training more k steps about Discriminator\n",
    "n_noise = 100"
   ]
  },
  {
   "cell_type": "code",
   "execution_count": null,
   "metadata": {
    "collapsed": true,
    "id": "vLpPiBji9bzb"
   },
   "outputs": [],
   "source": [
    "D_labels = torch.ones([batch_size, 1]).to(DEVICE) # Discriminator Label to real\n",
    "D_fakes = torch.zeros([batch_size, 1]).to(DEVICE) # Discriminator Label to fake"
   ]
  },
  {
   "cell_type": "code",
   "execution_count": null,
   "metadata": {
    "colab": {
     "base_uri": "https://localhost:8080/"
    },
    "id": "exHwZDbA9bzc",
    "outputId": "f8cd3c71-24ff-48a5-a2dd-1b69bb258042",
    "scrolled": true
   },
   "outputs": [
    {
     "name": "stdout",
     "output_type": "stream",
     "text": [
      "epochs = 1/10\n"
     ]
    },
    {
     "name": "stderr",
     "output_type": "stream",
     "text": [
      "/usr/local/lib/python3.7/dist-packages/torch/utils/data/dataloader.py:481: UserWarning: This DataLoader will create 8 worker processes in total. Our suggested max number of worker in current system is 2, which is smaller than what this DataLoader is going to create. Please be aware that excessive worker creation might get DataLoader running slow or even freeze, lower the worker number to avoid potential slowness/freeze if necessary.\n",
      "  cpuset_checked))\n",
      "100%|██████████| 3165/3165 [04:39<00:00, 11.33it/s, D_loss=0.656, G_loss=2.61]"
     ]
    },
    {
     "name": "stdout",
     "output_type": "stream",
     "text": [
      "Epoch: 1/10, Step: 3165, D Loss: 0.6561, G Loss: 2.6125, Time:14:01:18\n",
      "epochs = 2/10\n"
     ]
    },
    {
     "name": "stderr",
     "output_type": "stream",
     "text": [
      "\n",
      "100%|██████████| 3165/3165 [04:29<00:00, 11.77it/s, D_loss=0.606, G_loss=3.6]"
     ]
    },
    {
     "name": "stdout",
     "output_type": "stream",
     "text": [
      "Epoch: 2/10, Step: 6330, D Loss: 0.6062, G Loss: 3.6042, Time:14:05:47\n",
      "epochs = 3/10\n"
     ]
    },
    {
     "name": "stderr",
     "output_type": "stream",
     "text": [
      "\n",
      "100%|██████████| 3165/3165 [04:27<00:00, 11.81it/s, D_loss=0.296, G_loss=3.26]"
     ]
    },
    {
     "name": "stdout",
     "output_type": "stream",
     "text": [
      "Epoch: 3/10, Step: 9495, D Loss: 0.2956, G Loss: 3.2636, Time:14:10:15\n",
      "epochs = 4/10\n"
     ]
    },
    {
     "name": "stderr",
     "output_type": "stream",
     "text": [
      "\n",
      "100%|██████████| 3165/3165 [04:28<00:00, 11.77it/s, D_loss=0.736, G_loss=2.47]"
     ]
    },
    {
     "name": "stdout",
     "output_type": "stream",
     "text": [
      "Epoch: 4/10, Step: 12660, D Loss: 0.7363, G Loss: 2.4739, Time:14:14:44\n",
      "epochs = 5/10\n"
     ]
    },
    {
     "name": "stderr",
     "output_type": "stream",
     "text": [
      "\n",
      "100%|██████████| 3165/3165 [04:27<00:00, 11.81it/s, D_loss=0.874, G_loss=0.264]"
     ]
    },
    {
     "name": "stdout",
     "output_type": "stream",
     "text": [
      "Epoch: 5/10, Step: 15825, D Loss: 0.8740, G Loss: 0.2638, Time:14:19:13\n",
      "epochs = 6/10\n"
     ]
    },
    {
     "name": "stderr",
     "output_type": "stream",
     "text": [
      "\n",
      "100%|██████████| 3165/3165 [04:28<00:00, 11.78it/s, D_loss=0.645, G_loss=3.89]"
     ]
    },
    {
     "name": "stdout",
     "output_type": "stream",
     "text": [
      "Epoch: 6/10, Step: 18990, D Loss: 0.6446, G Loss: 3.8900, Time:14:23:42\n",
      "epochs = 7/10\n"
     ]
    },
    {
     "name": "stderr",
     "output_type": "stream",
     "text": [
      "\n",
      "100%|██████████| 3165/3165 [04:28<00:00, 11.77it/s, D_loss=0.766, G_loss=3.01]"
     ]
    },
    {
     "name": "stdout",
     "output_type": "stream",
     "text": [
      "Epoch: 7/10, Step: 22155, D Loss: 0.7660, G Loss: 3.0077, Time:14:28:11\n",
      "epochs = 8/10\n"
     ]
    },
    {
     "name": "stderr",
     "output_type": "stream",
     "text": [
      "\n",
      "100%|██████████| 3165/3165 [04:28<00:00, 11.78it/s, D_loss=0.183, G_loss=2.29]"
     ]
    },
    {
     "name": "stdout",
     "output_type": "stream",
     "text": [
      "Epoch: 8/10, Step: 25320, D Loss: 0.1827, G Loss: 2.2933, Time:14:32:41\n",
      "epochs = 9/10\n"
     ]
    },
    {
     "name": "stderr",
     "output_type": "stream",
     "text": [
      "\n",
      "100%|██████████| 3165/3165 [04:28<00:00, 11.77it/s, D_loss=0.619, G_loss=2.86]"
     ]
    },
    {
     "name": "stdout",
     "output_type": "stream",
     "text": [
      "Epoch: 9/10, Step: 28485, D Loss: 0.6190, G Loss: 2.8649, Time:14:37:10\n",
      "epochs = 10/10\n"
     ]
    },
    {
     "name": "stderr",
     "output_type": "stream",
     "text": [
      "\n",
      "100%|██████████| 3165/3165 [04:28<00:00, 11.81it/s, D_loss=0.173, G_loss=5.55]"
     ]
    },
    {
     "name": "stdout",
     "output_type": "stream",
     "text": [
      "Epoch: 10/10, Step: 31650, D Loss: 0.1729, G Loss: 5.5469, Time:14:41:38\n"
     ]
    },
    {
     "name": "stderr",
     "output_type": "stream",
     "text": [
      "\n"
     ]
    }
   ],
   "source": [
    "from tqdm import tqdm\n",
    "\n",
    "! mkdir img_align_celeba_sample\n",
    "\n",
    "for epoch in range(max_epoch):\n",
    "    print('epochs = {}/{}'.format(epoch+1,max_epoch))\n",
    "    loop = tqdm(enumerate(data_loader),total=len(data_loader))\n",
    "    for idx, images in loop:\n",
    "        # Training Discriminator\n",
    "        x = images.to(DEVICE)\n",
    "        x_outputs = D(x)\n",
    "        D_x_loss = criterion(x_outputs, D_labels)\n",
    "\n",
    "        z = torch.randn(batch_size, n_noise).to(DEVICE)\n",
    "        z_outputs = D(G(z))\n",
    "        D_z_loss = criterion(z_outputs, D_fakes)\n",
    "        D_loss = D_x_loss + D_z_loss\n",
    "        \n",
    "        D.zero_grad()\n",
    "        D_loss.backward()\n",
    "        D_opt.step()\n",
    "\n",
    "        if step % n_critic == 0:\n",
    "            # Training Generator\n",
    "            z = torch.randn(batch_size, n_noise).to(DEVICE)\n",
    "            z_outputs = D(G(z))\n",
    "            G_loss = criterion(z_outputs, D_labels)\n",
    "\n",
    "            D.zero_grad()\n",
    "            G.zero_grad()\n",
    "            G_loss.backward()\n",
    "            G_opt.step()\n",
    "        \n",
    "\n",
    "        loop.set_postfix(D_loss=D_loss.item(), G_loss = G_loss.item())\n",
    "        wandb.log({'Epoch': epoch+1, 'Step': step,'D loss': D_loss.item(), 'G Loss' : G_loss.item()})\n",
    "\n",
    "        if step % 100 == 0:\n",
    "            G.eval()\n",
    "            img = get_sample_image(G, n_noise)\n",
    "            wandb.log({'Generated Images' :[wandb.Image(img[0])]})\n",
    "            if step % 1000==0:\n",
    "                imsave('img_align_celeba_sample/{}_epoch_{}_step_{}.jpg'.format(MODEL_NAME, epoch+1, step), img[0])\n",
    "            G.train()\n",
    "            \n",
    "        step += 1\n",
    "\n",
    "    dt = datetime.datetime.now().strftime('%H:%M:%S')\n",
    "    print('Epoch: {}/{}, Step: {}, D Loss: {:.4f}, G Loss: {:.4f}, Time:{}'.format(epoch+1, max_epoch, step, D_loss.item(), G_loss.item(), dt))\n",
    "    \n",
    "    \n",
    "        "
   ]
  },
  {
   "cell_type": "markdown",
   "metadata": {
    "id": "7v9C4dNb9bzd"
   },
   "source": [
    "## Sample"
   ]
  },
  {
   "cell_type": "code",
   "execution_count": null,
   "metadata": {
    "colab": {
     "base_uri": "https://localhost:8080/",
     "height": 283
    },
    "id": "vDDq5dlp9bzd",
    "outputId": "f14bb73e-baa6-4dc8-e32e-58a16ac91ed4"
   },
   "outputs": [
    {
     "data": {
      "text/plain": [
       "<matplotlib.image.AxesImage at 0x7fb824868710>"
      ]
     },
     "execution_count": 25,
     "metadata": {},
     "output_type": "execute_result"
    },
    {
     "data": {
      "image/png": "[encoded data removed]",
      "text/plain": [
       "<Figure size 432x288 with 1 Axes>"
      ]
     },
     "metadata": {
      "needs_background": "light"
     },
     "output_type": "display_data"
    }
   ],
   "source": [
    "# generation to image\n",
    "G.eval()\n",
    "imshow(get_sample_image(G, n_noise)[0])"
   ]
  },
  {
   "cell_type": "code",
   "execution_count": null,
   "metadata": {
    "colab": {
     "base_uri": "https://localhost:8080/",
     "height": 283
    },
    "id": "gXGH3KxT9bzd",
    "outputId": "60871c45-d2de-4646-d072-aa843f6eb643"
   },
   "outputs": [
    {
     "data": {
      "text/plain": [
       "<matplotlib.image.AxesImage at 0x7fb8121a4410>"
      ]
     },
     "execution_count": 22,
     "metadata": {},
     "output_type": "execute_result"
    },
    {
     "data": {
      "image/png": "[encoded data removed]",
      "text/plain": [
       "<Figure size 432x288 with 1 Axes>"
      ]
     },
     "metadata": {
      "needs_background": "light"
     },
     "output_type": "display_data"
    }
   ],
   "source": [
    "# Real Image\n",
    "t = Image.open(dataset.fpaths[999])\n",
    "t = (transform(t).permute(1, 2, 0)+1)/2.\n",
    "imshow(t)"
   ]
  },
  {
   "cell_type": "code",
   "execution_count": null,
   "metadata": {
    "collapsed": true,
    "id": "ODLy_6Kk9bze"
   },
   "outputs": [],
   "source": [
    "def save_checkpoint(state, file_name='checkpoint.pth.tar'):\n",
    "    torch.save(state, file_name)"
   ]
  },
  {
   "cell_type": "code",
   "execution_count": null,
   "metadata": {
    "collapsed": true,
    "id": "E3YKxB779bze"
   },
   "outputs": [],
   "source": [
    "# Saving params.\n",
    "# torch.save(D.state_dict(), 'D_c.pkl')\n",
    "# torch.save(G.state_dict(), 'G_c.pkl')\n",
    "save_checkpoint({'epoch': epoch + 1,\n",
    "                 'D':D.state_dict(),\n",
    "                 'G':G.state_dict(),\n",
    "                 'd_optim': D_opt.state_dict(),\n",
    "                 'g_optim' : G_opt.state_dict()},\n",
    "                'dcgan.pth.tar')"
   ]
  },
  {
   "cell_type": "code",
   "execution_count": null,
   "metadata": {
    "collapsed": true,
    "id": "XzY4-sVU9bze"
   },
   "outputs": [],
   "source": []
  }
 ],
 "metadata": {
  "accelerator": "GPU",
  "colab": {
   "collapsed_sections": [],
   "name": "[AI실무교육교안]DCGAN.ipynb",
   "provenance": []
  },
  "kernelspec": {
   "display_name": "Python 3",
   "language": "python",
   "name": "python3"
  },
  "language_info": {
   "codemirror_mode": {
    "name": "ipython",
    "version": 3
   },
   "file_extension": ".py",
   "mimetype": "text/x-python",
   "name": "python",
   "nbconvert_exporter": "python",
   "pygments_lexer": "ipython3",
   "version": "3.7.6"
  }
 },
 "nbformat": 4,
 "nbformat_minor": 1
}
